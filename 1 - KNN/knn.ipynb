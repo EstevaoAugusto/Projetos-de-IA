{
 "cells": [
  {
   "cell_type": "markdown",
   "id": "4250d997",
   "metadata": {},
   "source": [
    "# Trabalho Prático 01 - Classificação KNN\n",
    "\n",
    "A aplicação de IA utiliza o algoritmo KNN (K-Neighrest-Neighbors), onde foi testado sua implementação feita a mão, e a oferecida pelo sklearn. A passo a passo ele está detalhado abaixo."
   ]
  },
  {
   "cell_type": "code",
   "execution_count": null,
   "id": "0ac59aef",
   "metadata": {},
   "outputs": [],
   "source": [
    "%pip install scikit-learn pandas numpy\n",
    "\n",
    "import numpy as np\n",
    "import pandas as pd\n",
    "import sklearn\n",
    "import math\n",
    "from collections import Counter"
   ]
  },
  {
   "cell_type": "code",
   "execution_count": null,
   "id": "0013f9c0",
   "metadata": {},
   "outputs": [],
   "source": [
    "# Lendo o arquivo CSV das flores.\n",
    "dados = pd.read_csv('Iris.csv')\n",
    "\n",
    "# Dividir em treino e teste (ex: 80% treino, 20% teste)\n",
    "dados_treinamento, dados_teste = sklearn.model_selection.train_test_split(dados, test_size=0.2, random_state=42, shuffle=True)\n",
    "\n",
    "# Resetar index para evitar problemas ao iterrows\n",
    "dados_treinamento = dados_treinamento.reset_index(drop=True)\n",
    "dados_teste = dados_teste.reset_index(drop=True)\n",
    "\n",
    "print(dados_teste)\n",
    "\n",
    "print(dados_treinamento)"
   ]
  },
  {
   "cell_type": "markdown",
   "id": "1f405c44",
   "metadata": {},
   "source": [
    "## Aplicação - Implementação desenvolvida a mão"
   ]
  },
  {
   "cell_type": "code",
   "execution_count": null,
   "id": "e9a5174e",
   "metadata": {},
   "outputs": [],
   "source": [
    "def distancia_euclidiana():\n",
    "    resultado = []\n",
    "    \n",
    "    for _, row1 in dados_teste.iterrows():\n",
    "        distancias = []\n",
    "        for _,row2 in dados_treinamento.iterrows():\n",
    "            d = math.sqrt((row1[\"SepalLengthCm\"] - row2[\"SepalLengthCm\"])**2+\n",
    "                          (row1[\"SepalWidthCm\"] - row2[\"SepalWidthCm\"])**2+\n",
    "                          (row1[\"PetalLengthCm\"] - row2[\"PetalLengthCm\"])**2+\n",
    "                          (row1[\"PetalWidthCm\"] - row2[\"PetalWidthCm\"])**2\n",
    "                          )\n",
    "            distancias.append((d, row2.Id, row2.Species))\n",
    "        distancias.sort(key= lambda x: x[0])\n",
    "        resultado.append(distancias)\n",
    "    \n",
    "    return resultado\n",
    "\n",
    "\n",
    "distancias = distancia_euclidiana()\n",
    "print(distancias)"
   ]
  },
  {
   "cell_type": "code",
   "execution_count": null,
   "id": "f1ce54cb",
   "metadata": {},
   "outputs": [],
   "source": [
    "k = [1,3,5,7]\n",
    "quantidade_vizinhos = k[3]\n",
    "\n",
    "def knn_prever(k = 3):\n",
    "    vizinhos = []\n",
    "    for distancia in distancias:\n",
    "        vizinhos_aux = []\n",
    "        for i in range(k):\n",
    "            vizinhos_aux.append(distancia[i])\n",
    "        vizinhos.append(vizinhos_aux)\n",
    "    return vizinhos\n",
    "\n",
    "vizinhos = knn_prever(quantidade_vizinhos)\n",
    "print(vizinhos)"
   ]
  },
  {
   "cell_type": "code",
   "execution_count": null,
   "id": "17d064e6",
   "metadata": {},
   "outputs": [],
   "source": [
    "def contar_vizinhos():\n",
    "    contador_vizinhos = []\n",
    "    for viz in vizinhos:\n",
    "        species = [v[2] for v in viz]\n",
    "        contador_vizinhos.append(Counter(species))\n",
    "    return contador_vizinhos\n",
    "\n",
    "contador_vizinhos = contar_vizinhos()\n",
    "especies_preditas = [c.most_common(1)[0][0] for c in contador_vizinhos]\n",
    "\n",
    "dados_teste['SpeciesPredictions'] = especies_preditas\n",
    "\n",
    "print(dados_teste)\n"
   ]
  },
  {
   "cell_type": "code",
   "execution_count": null,
   "id": "62428f3b",
   "metadata": {},
   "outputs": [],
   "source": [
    "# Obter todas as classes únicas (de y_true e y_pred)\n",
    "classes = np.unique(dados_teste[[\"Species\", \"SpeciesPredictions\"]].values)\n",
    "class_to_index = {cls: idx for idx, cls in enumerate(classes)}\n",
    "\n",
    "# Converter y_true e y_pred para índices\n",
    "y_true_idx = [class_to_index[c] for c in dados_teste.Species]\n",
    "y_pred_idx = [class_to_index[c] for c in dados_teste.SpeciesPredictions]\n"
   ]
  },
  {
   "cell_type": "code",
   "execution_count": null,
   "id": "c53262b9",
   "metadata": {},
   "outputs": [],
   "source": [
    "# Matriz de confusão manual\n",
    "def confusion_matrix_manual(y_true, y_pred, n_classes):\n",
    "    cm = np.zeros((n_classes, n_classes), dtype=int)\n",
    "    for t, p in zip(y_true, y_pred):\n",
    "        cm[t, p] += 1\n",
    "    return cm\n",
    "\n",
    "cm = confusion_matrix_manual(y_true_idx, y_pred_idx, n_classes=len(classes))\n",
    "print(\"Matriz de Confusão:\\n\", cm)"
   ]
  },
  {
   "cell_type": "code",
   "execution_count": null,
   "id": "bf42cb48",
   "metadata": {},
   "outputs": [],
   "source": [
    "def accuracy_manual(cm):\n",
    "    correct = np.trace(cm)  # soma da diagonal\n",
    "    total = cm.sum()\n",
    "    return correct / total\n",
    "\n",
    "acc = accuracy_manual(cm)\n",
    "print(f\"Acurácia: {acc:.2f}\")"
   ]
  },
  {
   "cell_type": "code",
   "execution_count": null,
   "id": "36058429",
   "metadata": {},
   "outputs": [],
   "source": [
    "def precision_manual(cm):\n",
    "    precisions = []\n",
    "    for i in range(len(cm)):\n",
    "        tp = cm[i, i]\n",
    "        fp = cm[:, i].sum() - tp\n",
    "        precisions.append(tp / (tp + fp) if (tp + fp) > 0 else 0)\n",
    "    return np.mean(precisions)\n",
    "\n",
    "prec = precision_manual(cm)\n",
    "print(f\"Precisão: {prec:.2f}\")"
   ]
  },
  {
   "cell_type": "code",
   "execution_count": null,
   "id": "4ec9ef13",
   "metadata": {},
   "outputs": [],
   "source": [
    "def recall_manual(cm):\n",
    "    recalls = []\n",
    "    for i in range(len(cm)):\n",
    "        tp = cm[i, i]\n",
    "        fn = cm[i, :].sum() - tp\n",
    "        recalls.append(tp / (tp + fn) if (tp + fn) > 0 else 0)\n",
    "    return np.mean(recalls)\n",
    "\n",
    "rec = recall_manual(cm)\n",
    "print(f\"Revocação: {rec:.2f}\")"
   ]
  },
  {
   "cell_type": "markdown",
   "id": "0f3bc6b5",
   "metadata": {},
   "source": [
    "## Aplicação - Implementação da biblioteca Sklearn"
   ]
  },
  {
   "cell_type": "code",
   "execution_count": null,
   "id": "7d525d14",
   "metadata": {},
   "outputs": [],
   "source": []
  },
  {
   "cell_type": "code",
   "execution_count": null,
   "id": "fc72bd6e",
   "metadata": {},
   "outputs": [],
   "source": [
    "matrix_confusao = sklearn.metrics.confusion_matrix(\n",
    "                                                    dados_teste.Species, \n",
    "                                                    dados_teste.SpeciesPredictions, \n",
    "                                                    labels=[\"Iris-setosa\", \"Iris-versicolor\", \"Iris-virginica\"]\n",
    "                                                    )\n",
    "\n",
    "print(matrix_confusao)"
   ]
  }
 ],
 "metadata": {
  "kernelspec": {
   "display_name": ".venv",
   "language": "python",
   "name": "python3"
  },
  "language_info": {
   "codemirror_mode": {
    "name": "ipython",
    "version": 3
   },
   "file_extension": ".py",
   "mimetype": "text/x-python",
   "name": "python",
   "nbconvert_exporter": "python",
   "pygments_lexer": "ipython3",
   "version": "3.13.1"
  }
 },
 "nbformat": 4,
 "nbformat_minor": 5
}
