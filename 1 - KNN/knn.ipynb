{
 "cells": [
  {
   "cell_type": "markdown",
   "id": "4250d997",
   "metadata": {},
   "source": [
    "# Trabalho Prático 01 - Classificação KNN\n",
    "\n",
    "A aplicação abaixa simula o algoritmo KNN (K-Neighrest-Neighbors). A passo a passo ele será detalhado.\n",
    "\n",
    "## Aplicação"
   ]
  },
  {
   "cell_type": "code",
   "execution_count": 2,
   "id": "daaf7bd7",
   "metadata": {},
   "outputs": [
    {
     "name": "stdout",
     "output_type": "stream",
     "text": [
      "Requirement already satisfied: pandas in c:\\users\\maurício\\onedrive\\área de trabalho\\softwares\\projetos-de-ia\\.venv\\lib\\site-packages (2.3.2)\n",
      "Note: you may need to restart the kernel to use updated packages.\n"
     ]
    },
    {
     "name": "stderr",
     "output_type": "stream",
     "text": [
      "ERROR: Could not find a version that satisfies the requirement skylearn (from versions: none)\n",
      "ERROR: No matching distribution found for skylearn\n"
     ]
    }
   ],
   "source": [
    "%pip install pandas skylearn"
   ]
  }
 ],
 "metadata": {
  "kernelspec": {
   "display_name": ".venv",
   "language": "python",
   "name": "python3"
  },
  "language_info": {
   "codemirror_mode": {
    "name": "ipython",
    "version": 3
   },
   "file_extension": ".py",
   "mimetype": "text/x-python",
   "name": "python",
   "nbconvert_exporter": "python",
   "pygments_lexer": "ipython3",
   "version": "3.13.1"
  }
 },
 "nbformat": 4,
 "nbformat_minor": 5
}
